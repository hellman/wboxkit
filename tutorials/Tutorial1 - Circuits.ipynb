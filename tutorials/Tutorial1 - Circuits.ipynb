{
 "cells": [
  {
   "cell_type": "markdown",
   "id": "47081ed2-a74e-4ba9-8f60-239d0428e8cb",
   "metadata": {},
   "source": [
    "# Tutorial - Boolean Circuits\n",
    "\n",
    "This tutorial covers:\n",
    "- Low-level circuit construction (using `circkit` framework)\n",
    "- Using existing circuits from the `wbkit` framework (AES-128)\n",
    "- Generating pseudorandomness in circuits (`wbkit`), existing and custom\n",
    "- Applying countermeasures (masking, shuffling) to circuits (`wbkit`)"
   ]
  },
  {
   "cell_type": "markdown",
   "id": "0ec97b3c-998a-4221-8791-a2024d57b34d",
   "metadata": {},
   "source": [
    "## Low-level circuit construction (`circkit`)"
   ]
  },
  {
   "cell_type": "code",
   "execution_count": null,
   "id": "aa87c8cd-596a-4634-930d-5be0fde3e52f",
   "metadata": {},
   "outputs": [],
   "source": [
    "from circkit.boolean import OptBooleanCircuit as BooleanCircuit"
   ]
  }
 ],
 "metadata": {
  "kernelspec": {
   "display_name": "SageConda(PY)",
   "language": "python",
   "name": "sageconda"
  },
  "language_info": {
   "codemirror_mode": {
    "name": "ipython",
    "version": 3
   },
   "file_extension": ".py",
   "mimetype": "text/x-python",
   "name": "python",
   "nbconvert_exporter": "python",
   "pygments_lexer": "ipython3",
   "version": "3.10.5"
  },
  "toc-autonumbering": true
 },
 "nbformat": 4,
 "nbformat_minor": 5
}
