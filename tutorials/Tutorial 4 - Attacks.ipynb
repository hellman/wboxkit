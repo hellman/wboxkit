{
 "cells": [
  {
   "cell_type": "markdown",
   "id": "fb12f34e-58bf-45a2-9bc9-08184d725d0a",
   "metadata": {
    "slideshow": {
     "slide_type": "slide"
    },
    "tags": []
   },
   "source": [
    "# Tutorial 4 - Trace-based Attacks"
   ]
  },
  {
   "cell_type": "markdown",
   "id": "4c4da210-4e86-4850-9968-584527384cf7",
   "metadata": {},
   "source": [
    "This tutorial covers:\n",
    "    \n",
    "- A summary DCA-style (trace-based) attacks\n",
    "- How to run them using provided basic implementations"
   ]
  },
  {
   "attachments": {
    "de057136-7ed2-4b2a-bbe3-db9749a19aa9.png": {
     "image/png": "[encoded data removed]"
    }
   },
   "cell_type": "markdown",
   "id": "478ad6e7-0cbe-4947-b8ae-2e7eda154858",
   "metadata": {
    "slideshow": {
     "slide_type": "slide"
    },
    "tags": []
   },
   "source": [
    "## Basic Framework\n",
    "![image.png](attachment:de057136-7ed2-4b2a-bbe3-db9749a19aa9.png)"
   ]
  },
  {
   "cell_type": "markdown",
   "id": "2f00db6d-2eae-4e5c-b6a4-ba930f8b2255",
   "metadata": {
    "slideshow": {
     "slide_type": "subslide"
    },
    "tags": []
   },
   "source": [
    "We consider $T$ traces of $N$ functions (on the example, $T=3$, $N=6$).\n",
    "They are arranged in a **matrix** $V$, each *row* corresponding to one *trace*, and each *column* corresponding to one computed *function* (across all $T$ inputs):\n",
    "\n",
    "$$V = \\pmatrix{v_1 &|& v_2 &|& v_3 &|& \\ldots &|& v_N}$$"
   ]
  },
  {
   "cell_type": "markdown",
   "id": "02e1bdd2-028b-46f2-8078-75611bc602f1",
   "metadata": {
    "tags": []
   },
   "source": [
    "We target the 1st round of the AES block cipher. More concretely, we focus on *\"finding\"* an output bit of a chosen S-box $S(x_i \\oplus k_i)$ in the white-box implementation. Here, \"bit\" means \"a function\" of the input $x$. As this function also depends on the subkey byte $k_i$, we will consider all possible values of this byte.\n",
    "\n",
    "*\"Finding\"* means different things in the three attacks we consider: exact matching, correlation (DCA) and linear algebraic attack (LDA).\n",
    "\n",
    "**Remark**: instead of considering one of the 8 direct output bits, it is also beneficial to consider all/some of their 255 linear (XOR) combinations."
   ]
  },
  {
   "cell_type": "markdown",
   "id": "5e5c9f9c-63eb-47b3-b6aa-e5a4432dfcab",
   "metadata": {
    "slideshow": {
     "slide_type": "slide"
    },
    "tags": []
   },
   "source": [
    "## Exact Matching Attack\n",
    "\n",
    "The exact matching attack simply attempts to match the guessed function **precisely** on **all** considered inputs. Thus, it can only break an unprotected or implementation.\n",
    "\n",
    "It can be implemented very efficiently:\n",
    "1. Evaluate all guessed functions and put them in a hash-set: $D = \\{s_k\\}_k$\n",
    "2. For each $v_i$ (a column of $V$), check if it is in the set $D$.\n",
    "\n",
    "Time: $O(T(K+N))$"
   ]
  },
  {
   "cell_type": "markdown",
   "id": "20b32b66-5734-4c40-97bd-19029bd0262e",
   "metadata": {
    "slideshow": {
     "slide_type": "subslide"
    },
    "tags": []
   },
   "source": [
    "```sh\n",
    "$ pypy3 attacks/analyze_exact.py -h\n",
    "usage: analyze_exact.py [-h] [-T N_TRACES] [-w WINDOW] [--step STEP] [--masks MASKS] [-o ORDER] trace_dir\n",
    "\n",
    "Apply \"Exact Matching Attack\" on pre-recorder traces.\n",
    "\n",
    "positional arguments:\n",
    "  trace_dir             path to directory with trace/plaintext/ciphertext files\n",
    "\n",
    "optional arguments:\n",
    "  -h, --help            show this help message and exit\n",
    "  -T N_TRACES, --n-traces N_TRACES\n",
    "                        number of traces to use in the attack (default: 100)\n",
    "  -w WINDOW, --window WINDOW\n",
    "                        sliding window size (default: 2048)\n",
    "  --step STEP           sliding window step (default: 1024)\n",
    "  --masks MASKS         linear masks to consider (comma separated ints, or 'all', or 'random16', 'random32') (default: 1,2,4,8,16,32,64,128)\n",
    "  -o ORDER, --order ORDER\n",
    "                        attack order (1 or 2) (default: 1)\n",
    "```"
   ]
  },
  {
   "cell_type": "markdown",
   "id": "5653e2ac-ef6e-41aa-a2cc-ceae8d84fc12",
   "metadata": {
    "slideshow": {
     "slide_type": "subslide"
    },
    "tags": []
   },
   "source": [
    "```sh\n",
    "$ pypy3 attacks/analyze_exact.py tutorials/traces/aes10_clear/\n",
    "Total traces: 100 of size 3.9K bits (3894)\n",
    "Using linear masks: (1, 2, 4, 8, 16, 32, 64, 128)\n",
    "Generated 65536 target vectors\n",
    "Window 1 / 30\n",
    "offset 0-2048 (of 31152)\n",
    "    2048 vectors\n",
    "    2035 unique vectors\n",
    "    65536 target vectors\n",
    "MATCH (SINGLE):\n",
    "sbox #0,\n",
    "lin.mask 0x01,\n",
    "key 0x61='a',\n",
    "negated? False,\n",
    "indexes (1 total) [202]\n",
    "\n",
    "...\n",
    "\n",
    "Matches (by position): [1, 1, 2, 2, 1, 1, 2, 2, 1, 2, 2, 2, 1, 2, 2, 2]\n",
    "Key candidates found:\n",
    "S-Box #0: 0x61('a')\n",
    "...\n",
    "S-Box #15: 0x48('H')\n",
    "\n",
    "Example: 61626364656667684142434445464748\n",
    "```"
   ]
  },
  {
   "cell_type": "markdown",
   "id": "bb2e32cf-1e9b-49db-bf73-881821316667",
   "metadata": {
    "slideshow": {
     "slide_type": "slide"
    },
    "tags": []
   },
   "source": [
    "## Exact Matching Attack (Second-Order)\n",
    "The attack can be generalized to break low-order linear masking:\n",
    "$$s = v_i \\oplus v_j ~~\\Leftrightarrow~~ s \\oplus v_i = v_j.$$\n",
    "\n",
    "1. Put the trace columns $v_j$ in the hash-set $D = V$.\n",
    "2. For each guessed function $s_k$ and each trace column $v_i$, check if $s_k \\oplus v_i$ is in $D$.\n",
    "\n",
    "Time: $O(T(KN))$"
   ]
  },
  {
   "cell_type": "markdown",
   "id": "afd16f02-c68e-4ff4-88b8-13109c385782",
   "metadata": {
    "slideshow": {
     "slide_type": "subslide"
    },
    "tags": []
   },
   "source": [
    "```sh\n",
    "$ pypy3 attacks/analyze_exact.py tutorials/traces/aes2_isw2/ -o 2 -w 1000000 -s 1000000 --masks 1\n",
    "Total traces: 100 of size 2.2K bits (2239)\n",
    "Using linear masks: (1,)\n",
    "Generated 7680 target vectors\n",
    "Window 1 / 1\n",
    "offset 0-17912 (of 17912)\n",
    "    17912 vectors\n",
    "    16904 unique vectors\n",
    "    7680 target vectors\n",
    "MATCH (DOUBLE):\n",
    "sbox #1,\n",
    "lin.mask 0x01,\n",
    "key 0x62='b',\n",
    "negated? False,\n",
    "indexes (1 and 1 total) [2713] [2719]\n",
    "\n",
    "        [(339, 1)]\n",
    "        [(339, 7)]\n",
    "\n",
    "...\n",
    "\n",
    "Matches (by position): [4, 4, 4, 4, 4, 4, 4, 4, 4, 4, 4, 4, 4, 4, 4, 4]\n",
    "Key candidates found:\n",
    "S-Box #0: 0x61('a')\n",
    "...\n",
    "S-Box #15: 0x48('H')\n",
    "\n",
    "Example: 61626364656667684142434445464748\n",
    "```"
   ]
  },
  {
   "cell_type": "markdown",
   "id": "90f7d0ad-5430-45aa-803e-3937b48d9b6a",
   "metadata": {
    "slideshow": {
     "slide_type": "slide"
    },
    "tags": []
   },
   "source": [
    "## Correlation Attack (DCA - Differential Computation Analysis)\n",
    "\n"
   ]
  },
  {
   "cell_type": "markdown",
   "id": "2e19f66d-127f-4c35-a5fb-3cbb9f98dc00",
   "metadata": {},
   "source": [
    "Correlation attacks relaxes the requirement to **partial** matching. More precisely, the procedure is roughly:\n",
    "\n",
    "- for each trace vector $v_i \\in V$ (a computed function)\n",
    "  - for each $s_k$ (a guessed function)\n",
    "    - compute a correlation $v_i \\otimes s_k$\n",
    "\n",
    "A sufficiently high correlation witnesses a likely correct guessed function."
   ]
  },
  {
   "cell_type": "markdown",
   "id": "f7c2b7e9-3a68-404f-9429-62207613305d",
   "metadata": {
    "slideshow": {
     "slide_type": "subslide"
    },
    "tags": []
   },
   "source": [
    "```sh\n",
    "$ git clone https://github.com/SideChannelMarvels/Daredevil && (cd Daredevil && make)\n",
    "\n",
    "# combine separate trace files into a single one\n",
    "# and create a sample config\n",
    "$ pypy3 attacks/combine4daredevil.py tutorials/traces/aes2_minq/ -T 500\n",
    "$ cat daredevil.config \n",
    "\n",
    "[Traces]\n",
    "files=1\n",
    "trace_type=i\n",
    "transpose=true\n",
    "index=0\n",
    "nsamples=122464\n",
    "trace=tutorials/traces/aes2_minq/all.bin 256 122464\n",
    "\n",
    "[Guesses]\n",
    "files=1\n",
    "guess_type=u\n",
    "transpose=true\n",
    "guess=tutorials/traces/aes2_minq/all.input 256 16\n",
    "\n",
    "[General]\n",
    "threads=8\n",
    "order=1\n",
    "//window=0\n",
    "return_type=double\n",
    "algorithm=AES\n",
    "position=attacks/AES_AFTER_SBOX\n",
    "round=0\n",
    "bitnum=0\n",
    "bytenum=all\n",
    "//correct_key=???\n",
    "memory=4G\n",
    "top=20\n",
    "```"
   ]
  },
  {
   "cell_type": "markdown",
   "id": "a791fbd0-8128-4ea0-a1ab-bce44b905b0c",
   "metadata": {
    "slideshow": {
     "slide_type": "subslide"
    },
    "tags": []
   },
   "source": [
    "```sh\n",
    "$ ./Daredevil/daredevil -c daredevil.config\n",
    "...\n",
    "\n",
    "Best 10 candidates for key byte #0 according to sum(abs(bit_correlations)):\n",
    " 1: 0x61  sum: 0.741072\n",
    " 2: 0x81  sum: 0.337126\n",
    " 3: 0xf5  sum: 0.336129\n",
    " 4: 0xc6  sum: 0.329991\n",
    " 5: 0xfb  sum: 0.326138\n",
    " 6: 0x30  sum: 0.321893\n",
    " 7: 0xb8  sum: 0.321164\n",
    " 8: 0xd1  sum: 0.311921\n",
    " 9: 0x83  sum: 0.311904\n",
    "10: 0x4f  sum: 0.31177\n",
    "\n",
    "...\n",
    "```"
   ]
  },
  {
   "cell_type": "markdown",
   "id": "1b76d069-95de-4603-8907-c0cf9fc3bc10",
   "metadata": {
    "slideshow": {
     "slide_type": "slide"
    },
    "tags": []
   },
   "source": [
    "## Linear Algebraic Attack (LDA - Linear Decoding Analysis)"
   ]
  },
  {
   "cell_type": "markdown",
   "id": "78ce6e9f-fa4f-4e1f-acdd-9d826bb15f1f",
   "metadata": {},
   "source": [
    "Recall that traces are arranged in the matrix\n",
    "$$V = \\pmatrix{v_1 &|& v_2 &|& v_3 &|& \\ldots &|& v_N}$$\n",
    "\n",
    "The aim of LDA is to find any amount of intermediate functions that **sum** (XOR) to a given gussed function. This amounts to simply solving the matrix equation\n",
    "$$V \\times z = \\pmatrix{s_k(x_1)\\\\s_k(x_2)\\\\\\vdots\\\\s_k(x_T)\\\\}$$\n",
    "\n",
    "(This has to be done for every guessed function $s_k$, but this can be batched by a precomputation on the matrix $V$)\n",
    "\n",
    "**Important**: it requires a number of traces $T \\ge N + \\varepsilon$ for a small integer $\\varepsilon$ to avoid false-positives.\n",
    "\n",
    "On practice, considering a sliding window of $w$ functions $V = \\pmatrix{v_i &|& \\ldots &|& v_{i+w-1}}$$$."
   ]
  },
  {
   "cell_type": "markdown",
   "id": "b1485cfb-aa85-41ee-b153-80621bdde358",
   "metadata": {
    "slideshow": {
     "slide_type": "subslide"
    },
    "tags": []
   },
   "source": [
    "```sh\n",
    "$ sage attacks/analyze_linalg_1st.py tutorials/traces/aes2_isw2/ -w 128 --masks 1\n",
    "\n",
    "...\n",
    "\n",
    "Window 17 / 557\n",
    "offset 512-640 (of 17912)\n",
    "    128 vectors\n",
    "    126 unique vectors\n",
    "    8192 target vectors\n",
    "MATCH:\n",
    "sbox #0,\n",
    "lin.mask 0x01,\n",
    "key 0x61='a',\n",
    "negated? True,\n",
    "indexes 65...174 (distance 109) [65, 68, 110, 134, 136, 145, 174]\n",
    "\n",
    "...\n",
    "\n",
    "Matches (by position): [28, 25, 26, 30, 28, 28, 29, 26, 26, 24, 30, 27, 27, 22, 30, 28]\n",
    "Key candidates found:\n",
    "S-Box #0: 0x61('a')\n",
    "...\n",
    "S-Box #15: 0x48('H')\n",
    "\n",
    "Example: 61626364656667684142434445464748\n",
    "```"
   ]
  },
  {
   "cell_type": "markdown",
   "id": "35249f28-2385-46c1-8f4e-babe015b139e",
   "metadata": {
    "slideshow": {
     "slide_type": "slide"
    },
    "tags": []
   },
   "source": [
    "## Conclusions\n",
    "\n",
    "1. Exact matching attack: very effective against unprotected / low-order masked impl.\n",
    "2. Correlation attack: can break nonlinear masking with 1 linear share, (dummy) shuffling, CEJO-style implementations.\n",
    "3. Algebraic attack: can break linear masking with **any number** of shares."
   ]
  },
  {
   "cell_type": "markdown",
   "id": "9d9a2371-3424-49ad-9965-fe1efae4de80",
   "metadata": {},
   "source": [
    "## Exercise\n",
    "\n",
    "Try to attack different countermeasures (circuits generated in Tutorial 2) with different attacks.\n",
    "\n",
    "For simplicity, it is sufficient to consider one S-box position, one/few linear masks and small windows.\n",
    "\n",
    "Attacks on real large white-box implementations however might require more effort (analytical and computational)."
   ]
  }
 ],
 "metadata": {
  "kernelspec": {
   "display_name": "PyPy3",
   "language": "python",
   "name": "pypy3"
  },
  "language_info": {
   "codemirror_mode": {
    "name": "ipython",
    "version": 3
   },
   "file_extension": ".py",
   "mimetype": "text/x-python",
   "name": "python",
   "nbconvert_exporter": "python",
   "pygments_lexer": "ipython3",
   "version": "3.8.12"
  }
 },
 "nbformat": 4,
 "nbformat_minor": 5
}
